{
  "nbformat": 4,
  "nbformat_minor": 0,
  "metadata": {
    "colab": {
      "provenance": []
    },
    "kernelspec": {
      "name": "python3",
      "display_name": "Python 3"
    },
    "language_info": {
      "name": "python"
    }
  },
  "cells": [
    {
      "cell_type": "code",
      "execution_count": null,
      "metadata": {
        "colab": {
          "base_uri": "https://localhost:8080/"
        },
        "id": "VVPM9NsaM-Xh",
        "outputId": "79526ef4-3f3f-4b91-af69-76d69a5703c0"
      },
      "outputs": [
        {
          "output_type": "stream",
          "name": "stdout",
          "text": [
            "Collecting scikit-fuzzy\n",
            "  Downloading scikit_fuzzy-0.5.0-py2.py3-none-any.whl.metadata (2.6 kB)\n",
            "Downloading scikit_fuzzy-0.5.0-py2.py3-none-any.whl (920 kB)\n",
            "\u001b[2K   \u001b[90m━━━━━━━━━━━━━━━━━━━━━━━━━━━━━━━━━━━━━━━━\u001b[0m \u001b[32m920.8/920.8 kB\u001b[0m \u001b[31m9.3 MB/s\u001b[0m eta \u001b[36m0:00:00\u001b[0m\n",
            "\u001b[?25hInstalling collected packages: scikit-fuzzy\n",
            "Successfully installed scikit-fuzzy-0.5.0\n"
          ]
        }
      ],
      "source": [
        "pip install scikit-fuzzy"
      ]
    },
    {
      "cell_type": "code",
      "source": [
        "import numpy as np\n",
        "import skfuzzy as fuzz\n",
        "import skfuzzy.control as ctrl\n",
        "\n",
        "market = ctrl.Antecedent(np.arange(0, 11, 1), 'market')\n",
        "competitor = ctrl.Antecedent(np.arange(0, 11, 1), 'competitor')\n",
        "production = ctrl.Antecedent(np.arange(0, 11, 1), 'production')\n",
        "seasonality = ctrl.Antecedent(np.arange(0, 11, 1), 'seasonality')\n",
        "stock = ctrl.Antecedent(np.arange(0, 11, 1), 'stock')\n",
        "\n",
        "\n",
        "price = ctrl.Consequent(np.arange(0, 11, 1), 'price')\n"
      ],
      "metadata": {
        "id": "Fubw-9riNCzx"
      },
      "execution_count": null,
      "outputs": []
    },
    {
      "cell_type": "code",
      "source": [
        "market['low'] = fuzz.trimf(market.universe, [0, 0, 5])\n",
        "market['medium'] = fuzz.trimf(market.universe, [2, 5, 8])\n",
        "market['high'] = fuzz.trimf(market.universe, [5, 10, 10])\n",
        "\n",
        "competitor['low'] = fuzz.trimf(competitor.universe, [0, 0, 5])\n",
        "competitor['medium'] = fuzz.trimf(competitor.universe, [2, 5, 8])\n",
        "competitor['high'] = fuzz.trimf(competitor.universe, [5, 10, 10])\n",
        "\n",
        "production['low'] = fuzz.trimf(production.universe, [0, 0, 5])\n",
        "production['medium'] = fuzz.trimf(production.universe, [2, 5, 8])\n",
        "production['high'] = fuzz.trimf(production.universe, [5, 10, 10])\n",
        "\n",
        "seasonality['off_peak'] = fuzz.trimf(seasonality.universe, [0, 0, 5])\n",
        "seasonality['normal'] = fuzz.trimf(seasonality.universe, [2, 5, 8])\n",
        "seasonality['peak'] = fuzz.trimf(seasonality.universe, [5, 10, 10])\n",
        "\n",
        "stock['low'] = fuzz.trimf(stock.universe, [0, 0, 5])\n",
        "stock['medium'] = fuzz.trimf(stock.universe, [2, 5, 8])\n",
        "stock['high'] = fuzz.trimf(stock.universe, [5, 10, 10])\n",
        "\n",
        "price['very_low'] = fuzz.trimf(price.universe, [0, 0, 2])\n",
        "price['low'] = fuzz.trimf(price.universe, [1, 3, 5])\n",
        "price['medium'] = fuzz.trimf(price.universe, [3, 5, 7])\n",
        "price['high'] = fuzz.trimf(price.universe, [5, 7, 9])\n",
        "price['very_high'] = fuzz.trimf(price.universe, [8, 10, 10])\n"
      ],
      "metadata": {
        "id": "AqrlOn6tNewA"
      },
      "execution_count": null,
      "outputs": []
    },
    {
      "cell_type": "code",
      "source": [
        "rule1 = ctrl.Rule(market['high'] & competitor['high'] & stock['low'], price['very_high'])\n",
        "rule2 = ctrl.Rule(market['high'] & seasonality['peak'] & stock['low'], price['very_high'])\n",
        "rule3 = ctrl.Rule(market['medium'] & production['high'] & stock['low'], price['very_high'])\n",
        "\n",
        "rule4 = ctrl.Rule(market['high'] & competitor['medium'] & stock['medium'], price['high'])\n",
        "rule5 = ctrl.Rule(market['medium'] & competitor['high'] & stock['low'], price['high'])\n",
        "rule6 = ctrl.Rule(market['medium'] & seasonality['peak'] & stock['medium'], price['high'])\n",
        "\n",
        "rule7 = ctrl.Rule(market['medium'] & competitor['medium'] & stock['medium'], price['medium'])\n",
        "rule8 = ctrl.Rule(market['medium'] & competitor['high'] & stock['medium'], price['medium'])\n",
        "rule9 = ctrl.Rule(market['low'] & competitor['high'] & stock['medium'], price['medium'])\n",
        "rule10 = ctrl.Rule(market['medium'] & production['medium'] & stock['medium'], price['medium'])\n",
        "\n",
        "rule11 = ctrl.Rule(market['low'] & competitor['low'] & stock['high'], price['low'])\n",
        "rule12 = ctrl.Rule(market['medium'] & production['medium'] & stock['high'], price['low'])\n",
        "rule13 = ctrl.Rule(market['low'] & seasonality['off_peak'] & stock['high'], price['low'])\n",
        "\n",
        "rule14 = ctrl.Rule(market['low'] & competitor['low'] & stock['high'], price['very_low'])\n",
        "rule15 = ctrl.Rule(market['low'] & seasonality['off_peak'] & stock['high'], price['very_low'])\n",
        "rule16 = ctrl.Rule(market['medium'] & competitor['low'] & stock['high'], price['very_low'])\n"
      ],
      "metadata": {
        "id": "kenVUc2PNiB-"
      },
      "execution_count": null,
      "outputs": []
    },
    {
      "cell_type": "code",
      "source": [
        "\n",
        "pricing_control = ctrl.ControlSystem([rule1, rule2, rule3, rule4, rule5, rule6, rule7, rule8, rule9, rule10,\n",
        "                                      rule11, rule12, rule13, rule14, rule15, rule16])\n",
        "pricing = ctrl.ControlSystemSimulation(pricing_control)\n",
        "\n",
        "pricing.input['market'] = 8\n",
        "pricing.input['competitor'] = 6\n",
        "pricing.input['production'] = 7\n",
        "pricing.input['seasonality'] = 9\n",
        "pricing.input['stock'] = 3\n",
        "\n",
        "pricing.compute()\n",
        "print(pricing.output['price'])\n"
      ],
      "metadata": {
        "colab": {
          "base_uri": "https://localhost:8080/"
        },
        "id": "ScXtP2GPNkU-",
        "outputId": "18d4c7b5-c8a0-43c8-c797-808dc4ffe432"
      },
      "execution_count": null,
      "outputs": [
        {
          "output_type": "stream",
          "name": "stdout",
          "text": [
            "7.756123822341859\n"
          ]
        }
      ]
    }
  ]
}