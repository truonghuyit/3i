{
  "nbformat": 4,
  "nbformat_minor": 0,
  "metadata": {
    "colab": {
      "provenance": []
    },
    "kernelspec": {
      "name": "python3",
      "display_name": "Python 3"
    },
    "language_info": {
      "name": "python"
    }
  },
  "cells": [
    {
      "cell_type": "code",
      "execution_count": null,
      "metadata": {
        "colab": {
          "base_uri": "https://localhost:8080/"
        },
        "id": "tRAFZgIZKESi",
        "outputId": "d914dc1a-4169-4e49-8a91-39b3ea6bd1c1"
      },
      "outputs": [
        {
          "output_type": "stream",
          "name": "stdout",
          "text": [
            "Collecting scikit-fuzzy\n",
            "  Downloading scikit_fuzzy-0.5.0-py2.py3-none-any.whl.metadata (2.6 kB)\n",
            "Downloading scikit_fuzzy-0.5.0-py2.py3-none-any.whl (920 kB)\n",
            "\u001b[2K   \u001b[90m━━━━━━━━━━━━━━━━━━━━━━━━━━━━━━━━━━━━━━━━\u001b[0m \u001b[32m920.8/920.8 kB\u001b[0m \u001b[31m7.9 MB/s\u001b[0m eta \u001b[36m0:00:00\u001b[0m\n",
            "\u001b[?25hInstalling collected packages: scikit-fuzzy\n",
            "Successfully installed scikit-fuzzy-0.5.0\n"
          ]
        }
      ],
      "source": [
        "pip install scikit-fuzzy"
      ]
    },
    {
      "cell_type": "code",
      "source": [
        "import numpy as np\n",
        "import skfuzzy as fuzz\n",
        "import skfuzzy.control as ctrl\n"
      ],
      "metadata": {
        "id": "bH3RTcOkKjl4"
      },
      "execution_count": null,
      "outputs": []
    },
    {
      "cell_type": "code",
      "source": [
        "sentiment = ctrl.Antecedent(np.arange(0, 1.1, 0.1), 'sentiment')\n",
        "emotion = ctrl.Antecedent(np.arange(0, 1.1, 0.1), 'emotion')\n",
        "positive = ctrl.Antecedent(np.arange(0, 6, 1), 'positive')\n",
        "negative = ctrl.Antecedent(np.arange(0, 6, 1), 'negative')\n",
        "\n",
        "review = ctrl.Consequent(np.arange(0, 3, 1), 'review')"
      ],
      "metadata": {
        "id": "0NzXQ4OGKqmf"
      },
      "execution_count": null,
      "outputs": []
    },
    {
      "cell_type": "code",
      "source": [
        "sentiment['negative'] = fuzz.trimf(sentiment.universe, [0, 0, 0.3])\n",
        "sentiment['neutral'] = fuzz.trimf(sentiment.universe, [0.3, 0.5, 0.7])\n",
        "sentiment['positive'] = fuzz.trimf(sentiment.universe, [0.7, 1, 1])\n",
        "\n",
        "emotion['low'] = fuzz.trimf(emotion.universe, [0, 0, 0.4])\n",
        "emotion['medium'] = fuzz.trimf(emotion.universe, [0.3, 0.5, 0.7])\n",
        "emotion['high'] = fuzz.trimf(emotion.universe, [0.6, 1, 1])\n",
        "\n",
        "positive['few'] = fuzz.trimf(positive.universe, [0, 0, 2])\n",
        "positive['some'] = fuzz.trimf(positive.universe, [1, 3, 5])\n",
        "positive['many'] = fuzz.trimf(positive.universe, [4, 5, 5])\n",
        "\n",
        "negative['few'] = fuzz.trimf(negative.universe, [0, 0, 2])\n",
        "negative['some'] = fuzz.trimf(negative.universe, [1, 3, 5])\n",
        "negative['many'] = fuzz.trimf(negative.universe, [4, 5, 5])\n",
        "\n",
        "review['negative'] = fuzz.trimf(review.universe, [0, 0, 1])\n",
        "review['neutral'] = fuzz.trimf(review.universe, [0, 1, 2])\n",
        "review['positive'] = fuzz.trimf(review.universe, [1, 2, 2])\n"
      ],
      "metadata": {
        "id": "Do01qpD7K3An"
      },
      "execution_count": null,
      "outputs": []
    },
    {
      "cell_type": "code",
      "source": [
        "rule1 = ctrl.Rule(sentiment['negative'] & emotion['high'], review['negative'])\n",
        "rule2 = ctrl.Rule(sentiment['negative'] & emotion['low'], review['neutral'])\n",
        "rule3 = ctrl.Rule(sentiment['neutral'] & emotion['medium'], review['neutral'])\n",
        "rule4 = ctrl.Rule(sentiment['positive'] & emotion['high'], review['positive'])\n",
        "\n",
        "rule5 = ctrl.Rule(positive['many'] & negative['few'], review['positive'])\n",
        "rule6 = ctrl.Rule(positive['few'] & negative['many'], review['negative'])\n",
        "rule7 = ctrl.Rule(positive['some'] & negative['some'], review['neutral'])\n",
        "\n",
        "rule8 = ctrl.Rule(sentiment['negative'] & negative['many'] & emotion['high'], review['negative'])\n",
        "rule9 = ctrl.Rule(sentiment['neutral'] & emotion['medium'] & positive['some'], review['neutral'])\n",
        "rule10 = ctrl.Rule(sentiment['positive'] & positive['many'] & emotion['high'], review['positive'])\n"
      ],
      "metadata": {
        "id": "sO4O1AusK6zH"
      },
      "execution_count": null,
      "outputs": []
    },
    {
      "cell_type": "code",
      "source": [
        "control_system = ctrl.ControlSystem([rule1, rule2, rule3, rule4, rule5, rule6, rule7, rule8, rule9, rule10])\n",
        "system = ctrl.ControlSystemSimulation(control_system)\n",
        "\n",
        "system.input['sentiment'] = 0.8\n",
        "system.input['emotion'] = 0.7\n",
        "system.input['positive'] = 4\n",
        "system.input['negative'] = 1\n",
        "\n",
        "system.compute()\n",
        "print(f\"Đánh giá Phân loại tình cảm: {system.output['review']}\")\n"
      ],
      "metadata": {
        "colab": {
          "base_uri": "https://localhost:8080/"
        },
        "id": "UZeseBUgK9Ff",
        "outputId": "a04b095b-c6cb-4fe1-c334-6429f288f369"
      },
      "execution_count": null,
      "outputs": [
        {
          "output_type": "stream",
          "name": "stdout",
          "text": [
            "Đánh giá Phân loại tình cảm: 1.5595238095238093\n"
          ]
        }
      ]
    }
  ]
}