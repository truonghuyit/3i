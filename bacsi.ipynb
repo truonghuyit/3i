{
  "nbformat": 4,
  "nbformat_minor": 0,
  "metadata": {
    "colab": {
      "provenance": []
    },
    "kernelspec": {
      "name": "python3",
      "display_name": "Python 3"
    },
    "language_info": {
      "name": "python"
    }
  },
  "cells": [
    {
      "cell_type": "code",
      "source": [
        "pip install scikit-fuzzy"
      ],
      "metadata": {
        "colab": {
          "base_uri": "https://localhost:8080/"
        },
        "id": "x2CREgZ9IM25",
        "outputId": "7617551d-d059-439c-f25b-d38feb8ddd6c"
      },
      "execution_count": null,
      "outputs": [
        {
          "output_type": "stream",
          "name": "stdout",
          "text": [
            "Collecting scikit-fuzzy\n",
            "  Downloading scikit_fuzzy-0.5.0-py2.py3-none-any.whl.metadata (2.6 kB)\n",
            "Downloading scikit_fuzzy-0.5.0-py2.py3-none-any.whl (920 kB)\n",
            "\u001b[2K   \u001b[90m━━━━━━━━━━━━━━━━━━━━━━━━━━━━━━━━━━━━━━━━\u001b[0m \u001b[32m920.8/920.8 kB\u001b[0m \u001b[31m7.9 MB/s\u001b[0m eta \u001b[36m0:00:00\u001b[0m\n",
            "\u001b[?25hInstalling collected packages: scikit-fuzzy\n",
            "Successfully installed scikit-fuzzy-0.5.0\n"
          ]
        }
      ]
    },
    {
      "cell_type": "code",
      "source": [
        "import numpy as np\n",
        "import skfuzzy as fuzz\n",
        "from skfuzzy import control as ctrl\n",
        "\n",
        "heart = ctrl.Antecedent(np.arange(40, 161, 1), 'heart')\n",
        "blood_pressure = ctrl.Antecedent(np.arange(50, 181, 1), 'blood_pressure')\n",
        "temperature = ctrl.Antecedent(np.arange(34, 41, 0.1), 'temperature')\n",
        "oxygen = ctrl.Antecedent(np.arange(85, 101, 1), 'oxygen')\n",
        "\n",
        "medication = ctrl.Consequent(np.arange(0, 11, 1), 'medication')\n",
        "fadjustment = ctrl.Consequent(np.arange(0, 11, 1), 'adjustment')\n",
        "oxygen_therapy = ctrl.Consequent(np.arange(0, 11, 1), 'oxygen_therapy')\n"
      ],
      "metadata": {
        "id": "bMynDyFNIPRS"
      },
      "execution_count": null,
      "outputs": []
    },
    {
      "cell_type": "code",
      "source": [
        "\n",
        "heart['low'] = fuzz.trimf(heart.universe, [40, 40, 60])\n",
        "heart['normal'] = fuzz.trimf(heart.universe, [60, 80, 100])\n",
        "heart['high'] = fuzz.trimf(heart.universe, [100, 140, 160])\n",
        "\n",
        "blood_pressure['low'] = fuzz.trimf(blood_pressure.universe, [50, 50, 90])\n",
        "blood_pressure['normal'] = fuzz.trimf(blood_pressure.universe, [90, 120, 140])\n",
        "blood_pressure['high'] = fuzz.trimf(blood_pressure.universe, [140, 160, 180])\n",
        "\n",
        "temperature['low'] = fuzz.trimf(temperature.universe, [34, 34, 36])\n",
        "temperature['normal'] = fuzz.trimf(temperature.universe, [36, 37, 38])\n",
        "temperature['high'] = fuzz.trimf(temperature.universe, [38, 39, 40])\n",
        "\n",
        "oxygen['low'] = fuzz.trimf(oxygen.universe, [85, 85, 90])\n",
        "oxygen['normal'] = fuzz.trimf(oxygen.universe, [90, 95, 100])\n",
        "\n",
        "medication['decrease'] = fuzz.trimf(medication.universe, [0, 0, 3])\n",
        "medication['maintain'] = fuzz.trimf(medication.universe, [3, 5, 7])\n",
        "medication['increase'] = fuzz.trimf(medication.universe, [7, 10, 10])\n",
        "\n",
        "fadjustment['decrease'] = fuzz.trimf(fadjustment.universe, [0, 0, 3])\n",
        "fadjustment['maintain'] = fuzz.trimf(fadjustment.universe, [3, 5, 7])\n",
        "fadjustment['increase'] = fuzz.trimf(fadjustment.universe, [7, 10, 10])\n",
        "\n",
        "oxygen_therapy['decrease'] = fuzz.trimf(oxygen_therapy.universe, [0, 0, 3])\n",
        "oxygen_therapy['maintain'] = fuzz.trimf(oxygen_therapy.universe, [3, 5, 7])\n",
        "oxygen_therapy['increase'] = fuzz.trimf(oxygen_therapy.universe, [7, 10, 10])\n"
      ],
      "metadata": {
        "id": "zdU9hiE6JYna"
      },
      "execution_count": null,
      "outputs": []
    },
    {
      "cell_type": "code",
      "source": [
        "rule1 = ctrl.Rule(heart['low'] & blood_pressure['low'],\n",
        "                  [fadjustment['increase'], medication['increase']])\n",
        "\n",
        "rule2 = ctrl.Rule(heart['high'] & blood_pressure['high'],\n",
        "                  medication['decrease'])\n",
        "\n",
        "rule3 = ctrl.Rule(heart['normal'] & blood_pressure['normal'],\n",
        "                  medication['maintain'])\n",
        "\n",
        "rule4 = ctrl.Rule(temperature['high'] & oxygen['low'],\n",
        "                  [oxygen_therapy['increase'], medication['increase']])\n",
        "\n",
        "rule5 = ctrl.Rule(temperature['low'] & oxygen['low'],\n",
        "                  [oxygen_therapy['increase'], fadjustment['increase']])\n",
        "\n",
        "rule6 = ctrl.Rule(temperature['normal'] & oxygen['normal'],\n",
        "                  medication['maintain'])\n"
      ],
      "metadata": {
        "id": "SkkwhLTlJcj4"
      },
      "execution_count": null,
      "outputs": []
    },
    {
      "cell_type": "code",
      "source": [
        "\n",
        "truonghuy = ctrl.ControlSystem([\n",
        "    rule1, rule2, rule3, rule4, rule5, rule6\n",
        "])\n",
        "patient_monitoring = ctrl.ControlSystemSimulation(truonghuy)\n",
        "\n",
        "patient_monitoring.input['heart'] = 55\n",
        "patient_monitoring.input['blood_pressure'] = 85\n",
        "patient_monitoring.input['temperature'] = 39\n",
        "patient_monitoring.input['oxygen'] = 88\n",
        "\n",
        "patient_monitoring.compute()\n",
        "\n",
        "print(\"Điều chỉnh liều lượng thuốc:\", patient_monitoring.output['medication'])\n",
        "print(\"Điều chỉnh chất lỏng:\", patient_monitoring.output['adjustment'])\n",
        "print(\"Liệu pháp oxy:\", patient_monitoring.output['oxygen_therapy'])\n"
      ],
      "metadata": {
        "colab": {
          "base_uri": "https://localhost:8080/"
        },
        "id": "So60tGIOJfB3",
        "outputId": "125b0fe3-13ca-4ef6-dc65-211a5a525531"
      },
      "execution_count": null,
      "outputs": [
        {
          "output_type": "stream",
          "name": "stdout",
          "text": [
            "Điều chỉnh liều lượng thuốc: 8.775\n",
            "Điều chỉnh chất lỏng: 8.591666666666667\n",
            "Liệu pháp oxy: 8.775\n"
          ]
        }
      ]
    }
  ]
}